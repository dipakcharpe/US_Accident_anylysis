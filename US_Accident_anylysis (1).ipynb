{
 "cells": [
  {
   "cell_type": "markdown",
   "id": "21893299",
   "metadata": {},
   "source": [
    "# US Accident Exploratory Data Analysis\n",
    "- road accidents are majour reason of killing and injuring people worldwide\n",
    "- This project is to find the insights of the accident happening in usa \n",
    "- we use pandas to cleans the datasets and seaborn for visualisation \n",
    "\n",
    "- we loaded the data from kaggle \"https://www.kaggle.com/sobhanmoosavi/us-accidents\"\n",
    "- this data showing us the information about the accidnent happed from 2016 to 2021\n",
    "- it can be usefull to prevent the accident on some level\n",
    "- in this data set New York is missing is Cities"
   ]
  },
  {
   "cell_type": "code",
   "execution_count": 1,
   "id": "75b984b4",
   "metadata": {},
   "outputs": [
    {
     "name": "stdout",
     "output_type": "stream",
     "text": [
      "Note: you may need to restart the kernel to use updated packages.\n"
     ]
    }
   ],
   "source": [
    "pip install opendatasets --quiet"
   ]
  },
  {
   "cell_type": "code",
   "execution_count": 2,
   "id": "7ec517ae",
   "metadata": {},
   "outputs": [],
   "source": [
    "import opendatasets as od"
   ]
  },
  {
   "cell_type": "code",
   "execution_count": 3,
   "id": "d6529b8b",
   "metadata": {},
   "outputs": [],
   "source": [
    "datafile = 'https://www.kaggle.com/sobhanmoosavi/us-accidents'"
   ]
  },
  {
   "cell_type": "code",
   "execution_count": 4,
   "id": "5ddf81a6",
   "metadata": {},
   "outputs": [
    {
     "name": "stdout",
     "output_type": "stream",
     "text": [
      "Skipping, found downloaded files in \".\\us-accidents\" (use force=True to force download)\n"
     ]
    }
   ],
   "source": [
    "od.download(datafile)"
   ]
  },
  {
   "cell_type": "code",
   "execution_count": 5,
   "id": "9ec7c644",
   "metadata": {},
   "outputs": [],
   "source": [
    "import os"
   ]
  },
  {
   "cell_type": "code",
   "execution_count": 6,
   "id": "f628e0c3",
   "metadata": {
    "scrolled": true
   },
   "outputs": [],
   "source": [
    "data_file = './us-accidents/US_Accidents_Dec21_updated.csv'"
   ]
  },
  {
   "cell_type": "markdown",
   "id": "d09c2589",
   "metadata": {},
   "source": [
    "## Data Preperation and Cleaning\n",
    "- 1.Load the file using pandas \n",
    "- 2.look some information about the data and columns\n",
    "- 3.fix any missing or incorrect values "
   ]
  },
  {
   "cell_type": "code",
   "execution_count": 7,
   "id": "4726ecfc",
   "metadata": {},
   "outputs": [],
   "source": [
    "import pandas as pd\n",
    "import numpy as np"
   ]
  },
  {
   "cell_type": "code",
   "execution_count": 8,
   "id": "6517e7d4",
   "metadata": {},
   "outputs": [],
   "source": [
    "df = pd.read_csv(data_file)"
   ]
  },
  {
   "cell_type": "code",
   "execution_count": null,
   "id": "5b041b39",
   "metadata": {},
   "outputs": [],
   "source": [
    "df"
   ]
  },
  {
   "cell_type": "code",
   "execution_count": null,
   "id": "23c6187e",
   "metadata": {},
   "outputs": [],
   "source": [
    "df.describe()"
   ]
  },
  {
   "cell_type": "code",
   "execution_count": null,
   "id": "9fa89369",
   "metadata": {},
   "outputs": [],
   "source": [
    "df.columns"
   ]
  },
  {
   "cell_type": "code",
   "execution_count": null,
   "id": "81f62ef6",
   "metadata": {},
   "outputs": [],
   "source": [
    "df.info()"
   ]
  },
  {
   "cell_type": "code",
   "execution_count": null,
   "id": "70933d52",
   "metadata": {},
   "outputs": [],
   "source": [
    "numerics = ['int16' ,'int32' , 'int64','float16','float32','float64']\n",
    "numeric_df = df.select_dtypes(include=numerics)\n",
    "len(numeric_df.columns)"
   ]
  },
  {
   "cell_type": "code",
   "execution_count": null,
   "id": "67f02e40",
   "metadata": {},
   "outputs": [],
   "source": [
    "missing_percentages = df.isna().sum().sort_values(ascending=False) /len(df)\n",
    "missing_percentages"
   ]
  },
  {
   "cell_type": "code",
   "execution_count": null,
   "id": "d88d336c",
   "metadata": {},
   "outputs": [],
   "source": [
    "missing_percentages.plot()"
   ]
  },
  {
   "cell_type": "code",
   "execution_count": null,
   "id": "d9f017d4",
   "metadata": {},
   "outputs": [],
   "source": [
    "missing_percentages[missing_percentages !=0].plot(kind='barh')"
   ]
  },
  {
   "cell_type": "markdown",
   "id": "d0764b2a",
   "metadata": {},
   "source": [
    "## Exploratory data anyalysis and visuliazation\n",
    "- 1.city\n",
    "- 2.Start Time\n",
    "- 3.Start Lat , Start Lng\n",
    "- 4.Temperature\n",
    "- 5.Weather Condition"
   ]
  },
  {
   "cell_type": "markdown",
   "id": "871881b9",
   "metadata": {},
   "source": [
    "### City"
   ]
  },
  {
   "cell_type": "code",
   "execution_count": null,
   "id": "3c65681d",
   "metadata": {},
   "outputs": [],
   "source": [
    "cities = df.City.unique()\n",
    "len(cities)"
   ]
  },
  {
   "cell_type": "code",
   "execution_count": null,
   "id": "90beeb79",
   "metadata": {},
   "outputs": [],
   "source": [
    "cities_by_accident = df.City.value_counts()\n",
    "cities_by_accident"
   ]
  },
  {
   "cell_type": "code",
   "execution_count": null,
   "id": "457d59b2",
   "metadata": {},
   "outputs": [],
   "source": [
    "cities_by_accident[:20].plot(kind = 'barh')"
   ]
  },
  {
   "cell_type": "code",
   "execution_count": null,
   "id": "02703779",
   "metadata": {},
   "outputs": [],
   "source": [
    "import seaborn as sns\n",
    "sns.set_style(\"darkgrid\")"
   ]
  },
  {
   "cell_type": "code",
   "execution_count": null,
   "id": "b73e50da",
   "metadata": {},
   "outputs": [],
   "source": [
    "sns.histplot(cities_by_accident , log_scale =True)"
   ]
  },
  {
   "cell_type": "code",
   "execution_count": null,
   "id": "a151d4e0",
   "metadata": {},
   "outputs": [],
   "source": [
    "high_accident_cities = cities_by_accident[cities_by_accident>=1000]\n",
    "low_accident_cities = cities_by_accident[cities_by_accident<=1000]"
   ]
  },
  {
   "cell_type": "code",
   "execution_count": null,
   "id": "dd03a02d",
   "metadata": {},
   "outputs": [],
   "source": [
    "len(high_accident_cities)/len(cities)"
   ]
  },
  {
   "cell_type": "code",
   "execution_count": null,
   "id": "147c445f",
   "metadata": {},
   "outputs": [],
   "source": [
    "sns.distplot(high_accident_cities)"
   ]
  },
  {
   "cell_type": "code",
   "execution_count": null,
   "id": "0f0f840f",
   "metadata": {},
   "outputs": [],
   "source": [
    "sns.histplot(low_accident_cities , log_scale=True)"
   ]
  },
  {
   "cell_type": "code",
   "execution_count": null,
   "id": "aadeb3c4",
   "metadata": {},
   "outputs": [],
   "source": [
    "cities_by_accident[cities_by_accident == 1]"
   ]
  },
  {
   "cell_type": "markdown",
   "id": "dfa19d30",
   "metadata": {},
   "source": [
    "### Start Time"
   ]
  },
  {
   "cell_type": "code",
   "execution_count": null,
   "id": "30e6f795",
   "metadata": {},
   "outputs": [],
   "source": [
    "df.Start_Time"
   ]
  },
  {
   "cell_type": "code",
   "execution_count": null,
   "id": "997aeead",
   "metadata": {},
   "outputs": [],
   "source": [
    "df.Start_Time = pd.to_datetime(df.Start_Time)"
   ]
  },
  {
   "cell_type": "code",
   "execution_count": null,
   "id": "28207d2b",
   "metadata": {},
   "outputs": [],
   "source": [
    "sns.distplot(df.Start_Time.dt.hour,bins = 24 , kde = False, norm_hist = True)"
   ]
  },
  {
   "cell_type": "markdown",
   "id": "661ce365",
   "metadata": {},
   "source": [
    "-Hight percentage of accidents occure bwtween 2 to 4 pm"
   ]
  },
  {
   "cell_type": "code",
   "execution_count": null,
   "id": "03e99eb9",
   "metadata": {},
   "outputs": [],
   "source": [
    "sns.distplot(df.Start_Time.dt.dayofweek,bins = 7 , kde = False, norm_hist = True)"
   ]
  },
  {
   "cell_type": "markdown",
   "id": "a721fe5c",
   "metadata": {},
   "source": [
    "IS the distribution of accidents by hour the same on weekends as on weekdays"
   ]
  },
  {
   "cell_type": "code",
   "execution_count": null,
   "id": "c2279bc6",
   "metadata": {},
   "outputs": [],
   "source": [
    "sundays_start_time = df.Start_Time[df.Start_Time.dt.dayofweek == 6]\n",
    "sns.distplot(sundays_start_time.dt.hour,bins = 24 , kde = False, norm_hist = True)"
   ]
  },
  {
   "cell_type": "code",
   "execution_count": null,
   "id": "27b5d59d",
   "metadata": {},
   "outputs": [],
   "source": [
    "mondays_start_time = df.Start_Time[df.Start_Time.dt.dayofweek == 0]\n",
    "sns.distplot(mondays_start_time.dt.hour,bins = 24 , kde = False, norm_hist = True)"
   ]
  },
  {
   "cell_type": "markdown",
   "id": "d3c523f9",
   "metadata": {},
   "source": [
    " on sunday, the pak occurs between 2 to 4 pm , justlike workdays ,but from 7 to 9 am more accidents were happen than sundays (may be because of on workdays people are in rush to reach office)\n"
   ]
  },
  {
   "cell_type": "code",
   "execution_count": null,
   "id": "13888367",
   "metadata": {},
   "outputs": [],
   "source": [
    "sns.distplot(df.Start_Time.dt.month,bins = 12 , kde = False, norm_hist = True)"
   ]
  },
  {
   "cell_type": "markdown",
   "id": "06ba9e0d",
   "metadata": {},
   "source": [
    "Can you Explain the month-wise trend of accidents?\n",
    " - much data is missing for 2016 , 2020 may be even for 2019\n",
    " - their seems to be issue with data"
   ]
  },
  {
   "cell_type": "code",
   "execution_count": null,
   "id": "15cfaea3",
   "metadata": {},
   "outputs": [],
   "source": [
    "df_2018 = df[df.Start_Time.dt.year ==2021]\n",
    "sns.distplot(df_2018.Start_Time.dt.month,bins = 12 , kde = False, norm_hist = True)"
   ]
  },
  {
   "cell_type": "markdown",
   "id": "8f706c6a",
   "metadata": {},
   "source": [
    "### Start Latitude & Start Longitude"
   ]
  },
  {
   "cell_type": "code",
   "execution_count": null,
   "id": "56e88eff",
   "metadata": {},
   "outputs": [],
   "source": [
    "df.Start_Lat "
   ]
  },
  {
   "cell_type": "code",
   "execution_count": null,
   "id": "865c62dd",
   "metadata": {},
   "outputs": [],
   "source": [
    "df.Start_Lng"
   ]
  },
  {
   "cell_type": "code",
   "execution_count": null,
   "id": "715d08b3",
   "metadata": {},
   "outputs": [],
   "source": [
    "sample_df = df.sample(int(0.1  * len(df)))\n"
   ]
  },
  {
   "cell_type": "code",
   "execution_count": null,
   "id": "52fe6cbc",
   "metadata": {},
   "outputs": [],
   "source": [
    "sns.scatterplot(x=sample_df.Start_Lng,y=sample_df.Start_Lat , size = 0.001 )"
   ]
  },
  {
   "cell_type": "code",
   "execution_count": null,
   "id": "c72012e4",
   "metadata": {},
   "outputs": [],
   "source": [
    "pip install folium --quiet"
   ]
  },
  {
   "cell_type": "code",
   "execution_count": null,
   "id": "311ab4f0",
   "metadata": {},
   "outputs": [],
   "source": [
    "import folium"
   ]
  },
  {
   "cell_type": "code",
   "execution_count": null,
   "id": "e36489a3",
   "metadata": {},
   "outputs": [],
   "source": [
    "lat = df.Start_Lat[0]\n",
    "lon = df.Start_Lng[0]\n",
    "lat , lon"
   ]
  },
  {
   "cell_type": "code",
   "execution_count": null,
   "id": "6741390c",
   "metadata": {},
   "outputs": [],
   "source": [
    "list(zip(list(df.Start_Lat),list(df.Start_Lng)))"
   ]
  },
  {
   "cell_type": "code",
   "execution_count": null,
   "id": "4c2c802a",
   "metadata": {},
   "outputs": [],
   "source": [
    "from folium.plugins import HeatMap"
   ]
  },
  {
   "cell_type": "code",
   "execution_count": null,
   "id": "45c967f1",
   "metadata": {},
   "outputs": [],
   "source": [
    "sample_df = df.sample(int(0.0001*len(df)))\n",
    "lat_lon_pairs = list(zip(list(df.Start_Lat),list(df.Start_Lng)))"
   ]
  },
  {
   "cell_type": "code",
   "execution_count": null,
   "id": "9923f080",
   "metadata": {},
   "outputs": [],
   "source": [
    "map = folium.Map()\n",
    "HeatMap(lat_lon_pairs).add_to(map)\n",
    "map"
   ]
  },
  {
   "cell_type": "markdown",
   "id": "5f7d9228",
   "metadata": {},
   "source": [
    "## Question & Answer "
   ]
  },
  {
   "cell_type": "markdown",
   "id": "c65141b2",
   "metadata": {},
   "source": [
    "#### 1.Are their more accident in warmer or colder areas?"
   ]
  },
  {
   "cell_type": "code",
   "execution_count": 9,
   "id": "bbb3068c",
   "metadata": {},
   "outputs": [
    {
     "data": {
      "text/plain": [
       "0          42.1\n",
       "1          36.9\n",
       "2          36.0\n",
       "3          39.0\n",
       "4          37.0\n",
       "           ... \n",
       "2845337    86.0\n",
       "2845338    70.0\n",
       "2845339    73.0\n",
       "2845340    71.0\n",
       "2845341    79.0\n",
       "Name: Temperature(F), Length: 2845342, dtype: float64"
      ]
     },
     "execution_count": 9,
     "metadata": {},
     "output_type": "execute_result"
    }
   ],
   "source": [
    "df['Temperature(F)']"
   ]
  },
  {
   "cell_type": "code",
   "execution_count": null,
   "id": "0062c9bc",
   "metadata": {},
   "outputs": [],
   "source": [
    "df.max()"
   ]
  },
  {
   "cell_type": "code",
   "execution_count": 25,
   "id": "fbc634d2",
   "metadata": {},
   "outputs": [
    {
     "data": {
      "text/html": [
       "<div>\n",
       "<style scoped>\n",
       "    .dataframe tbody tr th:only-of-type {\n",
       "        vertical-align: middle;\n",
       "    }\n",
       "\n",
       "    .dataframe tbody tr th {\n",
       "        vertical-align: top;\n",
       "    }\n",
       "\n",
       "    .dataframe thead th {\n",
       "        text-align: right;\n",
       "    }\n",
       "</style>\n",
       "<table border=\"1\" class=\"dataframe\">\n",
       "  <thead>\n",
       "    <tr style=\"text-align: right;\">\n",
       "      <th></th>\n",
       "      <th>Temperature(F)</th>\n",
       "      <th>count</th>\n",
       "    </tr>\n",
       "  </thead>\n",
       "  <tbody>\n",
       "    <tr>\n",
       "      <th>0</th>\n",
       "      <td>(-8.0, -7.0]</td>\n",
       "      <td>0</td>\n",
       "    </tr>\n",
       "    <tr>\n",
       "      <th>1</th>\n",
       "      <td>(-7.0, -6.0]</td>\n",
       "      <td>0</td>\n",
       "    </tr>\n",
       "    <tr>\n",
       "      <th>2</th>\n",
       "      <td>(-6.0, -5.0]</td>\n",
       "      <td>0</td>\n",
       "    </tr>\n",
       "    <tr>\n",
       "      <th>3</th>\n",
       "      <td>(-5.0, -4.0]</td>\n",
       "      <td>0</td>\n",
       "    </tr>\n",
       "    <tr>\n",
       "      <th>4</th>\n",
       "      <td>(-4.0, -3.0]</td>\n",
       "      <td>0</td>\n",
       "    </tr>\n",
       "    <tr>\n",
       "      <th>...</th>\n",
       "      <td>...</td>\n",
       "      <td>...</td>\n",
       "    </tr>\n",
       "    <tr>\n",
       "      <th>202</th>\n",
       "      <td>(194.0, 195.0]</td>\n",
       "      <td>0</td>\n",
       "    </tr>\n",
       "    <tr>\n",
       "      <th>203</th>\n",
       "      <td>(195.0, 196.0]</td>\n",
       "      <td>0</td>\n",
       "    </tr>\n",
       "    <tr>\n",
       "      <th>204</th>\n",
       "      <td>(196.0, 197.0]</td>\n",
       "      <td>0</td>\n",
       "    </tr>\n",
       "    <tr>\n",
       "      <th>205</th>\n",
       "      <td>(197.0, 198.0]</td>\n",
       "      <td>0</td>\n",
       "    </tr>\n",
       "    <tr>\n",
       "      <th>206</th>\n",
       "      <td>(198.0, 199.0]</td>\n",
       "      <td>0</td>\n",
       "    </tr>\n",
       "  </tbody>\n",
       "</table>\n",
       "<p>207 rows × 2 columns</p>\n",
       "</div>"
      ],
      "text/plain": [
       "     Temperature(F)  count\n",
       "0      (-8.0, -7.0]      0\n",
       "1      (-7.0, -6.0]      0\n",
       "2      (-6.0, -5.0]      0\n",
       "3      (-5.0, -4.0]      0\n",
       "4      (-4.0, -3.0]      0\n",
       "..              ...    ...\n",
       "202  (194.0, 195.0]      0\n",
       "203  (195.0, 196.0]      0\n",
       "204  (196.0, 197.0]      0\n",
       "205  (197.0, 198.0]      0\n",
       "206  (198.0, 199.0]      0\n",
       "\n",
       "[207 rows x 2 columns]"
      ]
     },
     "execution_count": 25,
     "metadata": {},
     "output_type": "execute_result"
    }
   ],
   "source": [
    "temp_wise_accident = df.groupby(pd.cut(df['Temperature(F)'],np.arange(-8.0,200)))['ID'].count().reset_index().rename(columns = {'ID':'count'})\n",
    "temp_wise_accident"
   ]
  },
  {
   "cell_type": "code",
   "execution_count": 20,
   "id": "f29055e5",
   "metadata": {},
   "outputs": [
    {
     "data": {
      "text/plain": [
       "<AxesSubplot:>"
      ]
     },
     "execution_count": 20,
     "metadata": {},
     "output_type": "execute_result"
    },
    {
     "data": {
      "image/png": "[encoded data removed]",
      "text/plain": [
       "<Figure size 432x288 with 1 Axes>"
      ]
     },
     "metadata": {
      "needs_background": "light"
     },
     "output_type": "display_data"
    }
   ],
   "source": [
    "temp_wise_accident.plot()"
   ]
  },
  {
   "cell_type": "markdown",
   "id": "9a5a2d57",
   "metadata": {},
   "source": [
    "- From above plot we can clearly state that more accidend are happened between 60 to 90 F Temperature that means their are more accident in colder areas than warmer areas that may be because of visibility problem is more in colder area\n"
   ]
  },
  {
   "cell_type": "code",
   "execution_count": 14,
   "id": "236eff4d",
   "metadata": {},
   "outputs": [
    {
     "data": {
      "text/plain": [
       "7068"
      ]
     },
     "execution_count": 14,
     "metadata": {},
     "output_type": "execute_result"
    }
   ],
   "source": [
    "new_york = (df['City'].where(df['City'] == 'New York')).count()\n",
    "new_york"
   ]
  },
  {
   "cell_type": "code",
   "execution_count": 27,
   "id": "f1760b42",
   "metadata": {},
   "outputs": [
    {
     "data": {
      "text/plain": [
       "False"
      ]
     },
     "execution_count": 27,
     "metadata": {},
     "output_type": "execute_result"
    }
   ],
   "source": [
    "'NY' in df.State"
   ]
  },
  {
   "cell_type": "code",
   "execution_count": 17,
   "id": "b228e779",
   "metadata": {},
   "outputs": [
    {
     "data": {
      "text/plain": [
       "<AxesSubplot:>"
      ]
     },
     "execution_count": 17,
     "metadata": {},
     "output_type": "execute_result"
    },
    {
     "data": {
      "image/png": "[encoded data removed]",
      "text/plain": [
       "<Figure size 432x288 with 1 Axes>"
      ]
     },
     "metadata": {
      "needs_background": "light"
     },
     "output_type": "display_data"
    }
   ],
   "source": []
  },
  {
   "cell_type": "markdown",
   "id": "9bb1a167",
   "metadata": {},
   "source": [
    "##  Questions for future works\n",
    "- 1.Are their more accident in warmer or colder areas?\n",
    "- 2.Which 5states have highest number of accidents per capita?\n",
    "- 3.Does New York shows in data ?If yes ,why is the count lower if this the most populated city?\n",
    "- 4.Among the top 100 citites in number of accidents,which states do they belongs to most frequently\n",
    "- 5.What time of the day are accidents most frequesnt in?\n",
    "- 6.Which Day of week have the most Accidents?\n",
    "- 7.Which months have the most accidents?\n",
    "- 8.What is the trend of accidents year over year(decreasing?Increasng)\n",
    "- 9.When is the accident per unit of traffic the highest\n",
    "- 10.Can you Explain the month-wise trend of accidents?"
   ]
  },
  {
   "cell_type": "code",
   "execution_count": null,
   "id": "4deb9b4a",
   "metadata": {},
   "outputs": [],
   "source": []
  },
  {
   "cell_type": "markdown",
   "id": "9d3ca6b1",
   "metadata": {},
   "source": [
    "## Summary and Conclusion\n",
    "Insights:\n",
    "- NO data for New York \n",
    "- The number of accidents per city decreases exponentially\n",
    "- Less than 4% of citites have more than 1000 yearly accidents.\n",
    "- over 1100 cities have reported just one accident\n",
    "- on weekends the number of accidents are less "
   ]
  },
  {
   "cell_type": "code",
   "execution_count": null,
   "id": "12626bf7",
   "metadata": {},
   "outputs": [],
   "source": []
  },
  {
   "cell_type": "markdown",
   "id": "092903be",
   "metadata": {},
   "source": [
    "## Areas For Future Work"
   ]
  },
  {
   "cell_type": "code",
   "execution_count": null,
   "id": "6c0d0826",
   "metadata": {},
   "outputs": [],
   "source": []
  }
 ],
 "metadata": {
  "kernelspec": {
   "display_name": "Python 3 (ipykernel)",
   "language": "python",
   "name": "python3"
  },
  "language_info": {
   "codemirror_mode": {
    "name": "ipython",
    "version": 3
   },
   "file_extension": ".py",
   "mimetype": "text/x-python",
   "name": "python",
   "nbconvert_exporter": "python",
   "pygments_lexer": "ipython3",
   "version": "3.9.7"
  }
 },
 "nbformat": 4,
 "nbformat_minor": 5
}
